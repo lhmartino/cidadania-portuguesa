{
 "cells": [
  {
   "cell_type": "code",
   "execution_count": 2,
   "id": "00113773",
   "metadata": {},
   "outputs": [
    {
     "name": "stdout",
     "output_type": "stream",
     "text": [
      "Collecting jq\n",
      "  Obtaining dependency information for jq from https://files.pythonhosted.org/packages/1d/dd/492d74bbd0fb4aa1ed2539cf4b460f8bb1ff56073cf591fa91dbb399f488/jq-1.8.0-cp311-cp311-win_amd64.whl.metadata\n",
      "  Downloading jq-1.8.0-cp311-cp311-win_amd64.whl.metadata (7.2 kB)\n",
      "Downloading jq-1.8.0-cp311-cp311-win_amd64.whl (416 kB)\n",
      "   ---------------------------------------- 0.0/416.9 kB ? eta -:--:--\n",
      "   ----- ---------------------------------- 61.4/416.9 kB 3.2 MB/s eta 0:00:01\n",
      "   ---------------------------------------- 416.9/416.9 kB 8.7 MB/s eta 0:00:00\n",
      "Installing collected packages: jq\n",
      "Successfully installed jq-1.8.0\n",
      "Note: you may need to restart the kernel to use updated packages.\n"
     ]
    }
   ],
   "source": [
    "pip install jq"
   ]
  },
  {
   "cell_type": "code",
   "execution_count": 3,
   "id": "a48df0df",
   "metadata": {},
   "outputs": [
    {
     "name": "stderr",
     "output_type": "stream",
     "text": [
      "OllamaEmbeddings: 100%|████████████████████████████████████████████████████████████| 489/489 [1:16:06<00:00,  9.34s/it]\n"
     ]
    }
   ],
   "source": [
    "from langchain_community.document_loaders import JSONLoader, DirectoryLoader\n",
    "from langchain_text_splitters import RecursiveCharacterTextSplitter\n",
    "from langchain_chroma import Chroma\n",
    "from langchain_community.embeddings import OllamaEmbeddings\n",
    "\n",
    "\n",
    "DRIVE_FOLDER = \"discussoes/\"\n",
    "#loader = DirectoryLoader(DRIVE_FOLDER, glob='**/*.json', show_progress=True, loader_cls=JSONLoader, loader_kwargs = {'jq_schema':'.respostas[]?.resposta'}, text_content=False)\n",
    "loader = JSONLoader(file_path=\"discussoes/forum.json\", jq_schema=\".discussoes[].respostas[].resposta\", text_content=False)\n",
    "\n",
    "documents = loader.load()\n",
    "#print(len(documents))\n",
    "\n",
    "text_splitter = RecursiveCharacterTextSplitter(chunk_size=500, chunk_overlap=0)\n",
    "all_splits = text_splitter.split_documents(documents)\n",
    "\n",
    "vectorstore = Chroma.from_documents(\n",
    "    documents=all_splits,\n",
    "    embedding=OllamaEmbeddings(model=\"llama3\", show_progress=True),\n",
    "    persist_directory=\"/chroma_db\",\n",
    ")"
   ]
  },
  {
   "cell_type": "code",
   "execution_count": 5,
   "id": "11ea1f6a",
   "metadata": {},
   "outputs": [
    {
     "name": "stderr",
     "output_type": "stream",
     "text": [
      "OllamaEmbeddings: 100%|██████████████████████████████████████████████████████████████████| 1/1 [00:03<00:00,  3.54s/it]\n"
     ]
    },
    {
     "data": {
      "text/plain": [
       "[Document(metadata={'seq_num': 94, 'source': 'C:\\\\Projects\\\\cidadania-portuguesa\\\\discussoes\\\\forum.json'}, page_content='como saberem e nos fornecer a averbação do casamento na certidão de nascimento?'),\n",
       " Document(metadata={'seq_num': 20, 'source': 'C:\\\\Projects\\\\cidadania-portuguesa\\\\discussoes\\\\forum.json'}, page_content='As cópias dos documentos de identidade do meus avós podem ser cópia simples?'),\n",
       " Document(metadata={'seq_num': 86, 'source': 'C:\\\\Projects\\\\cidadania-portuguesa\\\\discussoes\\\\forum.json'}, page_content='ou no Brasil?'),\n",
       " Document(metadata={'seq_num': 5, 'source': 'C:\\\\Projects\\\\cidadania-portuguesa\\\\discussoes\\\\forum.json'}, page_content='A certidão de batismo pode substituir a certidão de nascimento?')]"
      ]
     },
     "execution_count": 5,
     "metadata": {},
     "output_type": "execute_result"
    }
   ],
   "source": [
    "question = \"quem tem direto à cidadania portuguesa?\"\n",
    "docs = vectorstore.similarity_search(question)\n",
    "docs\n"
   ]
  },
  {
   "cell_type": "code",
   "execution_count": 6,
   "id": "339b712a",
   "metadata": {},
   "outputs": [
    {
     "name": "stderr",
     "output_type": "stream",
     "text": [
      "C:\\Users\\USER\\anaconda3\\Lib\\site-packages\\langsmith\\client.py:312: LangSmithMissingAPIKeyWarning: API key must be provided when using hosted LangSmith API\n",
      "  warnings.warn(\n",
      "C:\\Users\\USER\\anaconda3\\Lib\\site-packages\\langsmith\\client.py:5474: LangChainBetaWarning: The function `loads` is in beta. It is actively being worked on, so the API may change.\n",
      "  prompt = loads(json.dumps(prompt_object.manifest))\n"
     ]
    }
   ],
   "source": [
    "from langchain import hub\n",
    "from langchain_community.llms import Ollama\n",
    "from langchain_core.output_parsers import StrOutputParser\n",
    "from langchain_core.runnables import RunnablePassthrough\n",
    "\n",
    "llm = Ollama(model=\"llama3\")\n",
    "\n",
    "retriever = vectorstore.as_retriever()\n",
    "\n",
    "\n",
    "def format_docs(docs):\n",
    "    return \"\\n\\n\".join(doc.page_content for doc in docs)\n",
    "\n",
    "\n",
    "rag_prompt = hub.pull(\"rlm/rag-prompt\")\n",
    "qa_chain = (\n",
    "    {\"context\": retriever | format_docs, \"question\": RunnablePassthrough()}\n",
    "    | rag_prompt\n",
    "    | llm\n",
    "    | StrOutputParser()\n",
    ")\n",
    "\n"
   ]
  },
  {
   "cell_type": "code",
   "execution_count": 10,
   "id": "c525ff0f",
   "metadata": {},
   "outputs": [
    {
     "name": "stderr",
     "output_type": "stream",
     "text": [
      "OllamaEmbeddings: 100%|██████████████████████████████████████████████████████████████████| 1/1 [00:03<00:00,  3.93s/it]\n"
     ]
    },
    {
     "data": {
      "text/plain": [
       "\"According to the context, I don't have specific information on the deadline for concluding the attribution process for descendants. However, it seems that the process involves attributing nationality to a Brazilian grandchild through their parent's Portuguese nationality.\""
      ]
     },
     "execution_count": 10,
     "metadata": {},
     "output_type": "execute_result"
    }
   ],
   "source": [
    "question = \"Qual é o prazo para conclusão do processo de atribuição para netos?\"\n",
    "qa_chain.invoke(question)"
   ]
  },
  {
   "cell_type": "code",
   "execution_count": null,
   "id": "c8306a2a",
   "metadata": {},
   "outputs": [],
   "source": []
  }
 ],
 "metadata": {
  "kernelspec": {
   "display_name": "Python 3 (ipykernel)",
   "language": "python",
   "name": "python3"
  },
  "language_info": {
   "codemirror_mode": {
    "name": "ipython",
    "version": 3
   },
   "file_extension": ".py",
   "mimetype": "text/x-python",
   "name": "python",
   "nbconvert_exporter": "python",
   "pygments_lexer": "ipython3",
   "version": "3.11.5"
  }
 },
 "nbformat": 4,
 "nbformat_minor": 5
}
